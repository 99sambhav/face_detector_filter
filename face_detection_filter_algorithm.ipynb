{
 "cells": [
  {
   "cell_type": "code",
   "execution_count": null,
   "id": "77a84280",
   "metadata": {},
   "outputs": [],
   "source": [
    "######in this notebook i have write a code to filter out the images which have faces in it . \n",
    "##### for that i have use face detection algorithm , web scraping and matplotlib ."
   ]
  },
  {
   "cell_type": "code",
   "execution_count": null,
   "id": "5059b6ab",
   "metadata": {},
   "outputs": [],
   "source": [
    "###### libraries which i have use is openCV , matplotlib beautifulsoup and request ."
   ]
  },
  {
   "cell_type": "code",
   "execution_count": 70,
   "id": "91574a25",
   "metadata": {},
   "outputs": [],
   "source": [
    "import requests \n",
    "import bs4\n",
    "import matplotlib.pyplot as py \n",
    "import cv2"
   ]
  },
  {
   "cell_type": "code",
   "execution_count": 71,
   "id": "27fee4f3",
   "metadata": {},
   "outputs": [],
   "source": [
    "url = \"https://www.passiton.com/inspirational-quotes\""
   ]
  },
  {
   "cell_type": "code",
   "execution_count": 72,
   "id": "a054d475",
   "metadata": {},
   "outputs": [],
   "source": [
    "req = requests.get(url)"
   ]
  },
  {
   "cell_type": "code",
   "execution_count": 73,
   "id": "49f507cd",
   "metadata": {},
   "outputs": [],
   "source": [
    "req = bs4.BeautifulSoup(req.content ,'html.parser')"
   ]
  },
  {
   "cell_type": "code",
   "execution_count": 74,
   "id": "b094dace",
   "metadata": {},
   "outputs": [],
   "source": [
    "image = req.find_all(\"img\" ,attrs={\"width\":\"310\"})"
   ]
  },
  {
   "cell_type": "code",
   "execution_count": null,
   "id": "b7a78535",
   "metadata": {},
   "outputs": [],
   "source": [
    "##### in cell below i run the haarcascade xml file "
   ]
  },
  {
   "cell_type": "code",
   "execution_count": 75,
   "id": "75eede40",
   "metadata": {},
   "outputs": [],
   "source": [
    "detect =cv2.CascadeClassifier(\"./haarcascade_frontalface_default.xml\")"
   ]
  },
  {
   "cell_type": "code",
   "execution_count": 76,
   "id": "38441200",
   "metadata": {},
   "outputs": [
    {
     "data": {
      "text/plain": [
       "'https://assets.passiton.com/quotes/quote_artwork/7126/medium/20210929_wednesday_quote.jpg?1632434613'"
      ]
     },
     "execution_count": 76,
     "metadata": {},
     "output_type": "execute_result"
    }
   ],
   "source": [
    "image[0].attrs['src']"
   ]
  },
  {
   "cell_type": "code",
   "execution_count": 77,
   "id": "262348f6",
   "metadata": {},
   "outputs": [],
   "source": [
    "for idx, i in enumerate(image):\n",
    "    link = i.attrs['src']\n",
    "    img_req =requests.get(link)\n",
    "    image_bin= img_req.content \n",
    "    #### in below two lines . images after getting scrap fron web in binary form stores in system \n",
    "    with open (f\"img_col/image{idx}.jpg\" ,\"wb\" ) as f :\n",
    "        f.write(image_bin)\n",
    "    \n",
    "    img = cv2.imread(f\"./img_col/image{idx}.jpg\")\n",
    "    \n",
    "    #img = cv2.cvtColor(img1,cv2.COLOR_BGR2RGB)\n",
    "    face = detect.detectMultiScale(img,1.3, 2)\n",
    "    for uni_face in face :\n",
    "        x,y,w,h = uni_face \n",
    "        if w==0 :\n",
    "            py.imsave(f\"img_col/image{idx}.jpg\" ,img)\n",
    "        else :\n",
    "            img = cv2.rectangle(img, (x,y), (x+w, y+h), (255,0,0), 2 )\n",
    "            img = cv2.cvtColor(img,cv2.COLOR_BGR2RGB)\n",
    "            ###### folder with filterout images which have human faces \n",
    "            py.imsave(f\"img_with_face/image{idx}.jpg\" ,img)\n",
    "            \n",
    "    "
   ]
  },
  {
   "cell_type": "code",
   "execution_count": null,
   "id": "25c4a8d6",
   "metadata": {},
   "outputs": [],
   "source": []
  },
  {
   "cell_type": "code",
   "execution_count": null,
   "id": "68656bf2",
   "metadata": {},
   "outputs": [],
   "source": []
  },
  {
   "cell_type": "code",
   "execution_count": null,
   "id": "68b36d1e",
   "metadata": {},
   "outputs": [],
   "source": []
  }
 ],
 "metadata": {
  "kernelspec": {
   "display_name": "Python 3",
   "language": "python",
   "name": "python3"
  },
  "language_info": {
   "codemirror_mode": {
    "name": "ipython",
    "version": 3
   },
   "file_extension": ".py",
   "mimetype": "text/x-python",
   "name": "python",
   "nbconvert_exporter": "python",
   "pygments_lexer": "ipython3",
   "version": "3.8.8"
  }
 },
 "nbformat": 4,
 "nbformat_minor": 5
}
